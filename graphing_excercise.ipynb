{
  "nbformat": 4,
  "nbformat_minor": 0,
  "metadata": {
    "colab": {
      "name": "graphing excercise.ipynb",
      "provenance": [],
      "authorship_tag": "ABX9TyPMzDYs1w3MRZlGnwhvaOWv",
      "include_colab_link": true
    },
    "kernelspec": {
      "name": "python3",
      "display_name": "Python 3"
    },
    "language_info": {
      "name": "python"
    }
  },
  "cells": [
    {
      "cell_type": "markdown",
      "metadata": {
        "id": "view-in-github",
        "colab_type": "text"
      },
      "source": [
        "<a href=\"https://colab.research.google.com/github/skerd2498/visualization/blob/main/graphing_excercise.ipynb\" target=\"_parent\"><img src=\"https://colab.research.google.com/assets/colab-badge.svg\" alt=\"Open In Colab\"/></a>"
      ]
    },
    {
      "cell_type": "code",
      "metadata": {
        "id": "_8l0dU5PxWgh"
      },
      "source": [
        "import pandas as pd\n",
        "import numpy as np\n",
        "import seaborn as sns\n",
        "import matplotlib.pyplot as plt"
      ],
      "execution_count": 15,
      "outputs": []
    },
    {
      "cell_type": "code",
      "metadata": {
        "colab": {
          "base_uri": "https://localhost:8080/",
          "height": 645
        },
        "id": "K5iRqRZAzx7r",
        "outputId": "25cce44e-d243-4677-f152-660842497960"
      },
      "source": [
        "df= pd.read_excel(\"/content/PizzaWeek.xlsx\")\n",
        "df"
      ],
      "execution_count": 35,
      "outputs": [
        {
          "output_type": "execute_result",
          "data": {
            "text/html": [
              "<div>\n",
              "<style scoped>\n",
              "    .dataframe tbody tr th:only-of-type {\n",
              "        vertical-align: middle;\n",
              "    }\n",
              "\n",
              "    .dataframe tbody tr th {\n",
              "        vertical-align: top;\n",
              "    }\n",
              "\n",
              "    .dataframe thead th {\n",
              "        text-align: right;\n",
              "    }\n",
              "</style>\n",
              "<table border=\"1\" class=\"dataframe\">\n",
              "  <thead>\n",
              "    <tr style=\"text-align: right;\">\n",
              "      <th></th>\n",
              "      <th>Topping</th>\n",
              "      <th>Total</th>\n",
              "      <th>Male</th>\n",
              "      <th>Female</th>\n",
              "    </tr>\n",
              "  </thead>\n",
              "  <tbody>\n",
              "    <tr>\n",
              "      <th>0</th>\n",
              "      <td>Mushrooms</td>\n",
              "      <td>65</td>\n",
              "      <td>63</td>\n",
              "      <td>68</td>\n",
              "    </tr>\n",
              "    <tr>\n",
              "      <th>1</th>\n",
              "      <td>Onion</td>\n",
              "      <td>62</td>\n",
              "      <td>62</td>\n",
              "      <td>63</td>\n",
              "    </tr>\n",
              "    <tr>\n",
              "      <th>2</th>\n",
              "      <td>Ham</td>\n",
              "      <td>61</td>\n",
              "      <td>66</td>\n",
              "      <td>56</td>\n",
              "    </tr>\n",
              "    <tr>\n",
              "      <th>3</th>\n",
              "      <td>Peppers</td>\n",
              "      <td>60</td>\n",
              "      <td>63</td>\n",
              "      <td>57</td>\n",
              "    </tr>\n",
              "    <tr>\n",
              "      <th>4</th>\n",
              "      <td>Chicken</td>\n",
              "      <td>56</td>\n",
              "      <td>60</td>\n",
              "      <td>52</td>\n",
              "    </tr>\n",
              "    <tr>\n",
              "      <th>5</th>\n",
              "      <td>Pepperoni</td>\n",
              "      <td>56</td>\n",
              "      <td>66</td>\n",
              "      <td>46</td>\n",
              "    </tr>\n",
              "    <tr>\n",
              "      <th>6</th>\n",
              "      <td>Tomato</td>\n",
              "      <td>51</td>\n",
              "      <td>49</td>\n",
              "      <td>54</td>\n",
              "    </tr>\n",
              "    <tr>\n",
              "      <th>7</th>\n",
              "      <td>Bacon</td>\n",
              "      <td>49</td>\n",
              "      <td>56</td>\n",
              "      <td>43</td>\n",
              "    </tr>\n",
              "    <tr>\n",
              "      <th>8</th>\n",
              "      <td>Pineapple</td>\n",
              "      <td>42</td>\n",
              "      <td>40</td>\n",
              "      <td>44</td>\n",
              "    </tr>\n",
              "    <tr>\n",
              "      <th>9</th>\n",
              "      <td>Sweetcorn</td>\n",
              "      <td>42</td>\n",
              "      <td>38</td>\n",
              "      <td>46</td>\n",
              "    </tr>\n",
              "    <tr>\n",
              "      <th>10</th>\n",
              "      <td>Beef</td>\n",
              "      <td>36</td>\n",
              "      <td>47</td>\n",
              "      <td>26</td>\n",
              "    </tr>\n",
              "    <tr>\n",
              "      <th>11</th>\n",
              "      <td>Olives</td>\n",
              "      <td>33</td>\n",
              "      <td>33</td>\n",
              "      <td>32</td>\n",
              "    </tr>\n",
              "    <tr>\n",
              "      <th>12</th>\n",
              "      <td>Chillies</td>\n",
              "      <td>31</td>\n",
              "      <td>42</td>\n",
              "      <td>22</td>\n",
              "    </tr>\n",
              "    <tr>\n",
              "      <th>13</th>\n",
              "      <td>Jalapenos</td>\n",
              "      <td>30</td>\n",
              "      <td>39</td>\n",
              "      <td>21</td>\n",
              "    </tr>\n",
              "    <tr>\n",
              "      <th>14</th>\n",
              "      <td>Spinach</td>\n",
              "      <td>26</td>\n",
              "      <td>20</td>\n",
              "      <td>32</td>\n",
              "    </tr>\n",
              "    <tr>\n",
              "      <th>15</th>\n",
              "      <td>Pork</td>\n",
              "      <td>25</td>\n",
              "      <td>34</td>\n",
              "      <td>17</td>\n",
              "    </tr>\n",
              "    <tr>\n",
              "      <th>16</th>\n",
              "      <td>Tuna</td>\n",
              "      <td>22</td>\n",
              "      <td>23</td>\n",
              "      <td>21</td>\n",
              "    </tr>\n",
              "    <tr>\n",
              "      <th>17</th>\n",
              "      <td>Anchovies</td>\n",
              "      <td>18</td>\n",
              "      <td>21</td>\n",
              "      <td>15</td>\n",
              "    </tr>\n",
              "    <tr>\n",
              "      <th>18</th>\n",
              "      <td>Something else</td>\n",
              "      <td>11</td>\n",
              "      <td>12</td>\n",
              "      <td>10</td>\n",
              "    </tr>\n",
              "  </tbody>\n",
              "</table>\n",
              "</div>"
            ],
            "text/plain": [
              "           Topping  Total  Male  Female\n",
              "0        Mushrooms     65    63      68\n",
              "1            Onion     62    62      63\n",
              "2              Ham     61    66      56\n",
              "3          Peppers     60    63      57\n",
              "4          Chicken     56    60      52\n",
              "5        Pepperoni     56    66      46\n",
              "6           Tomato     51    49      54\n",
              "7            Bacon     49    56      43\n",
              "8        Pineapple     42    40      44\n",
              "9        Sweetcorn     42    38      46\n",
              "10            Beef     36    47      26\n",
              "11          Olives     33    33      32\n",
              "12        Chillies     31    42      22\n",
              "13       Jalapenos     30    39      21\n",
              "14         Spinach     26    20      32\n",
              "15            Pork     25    34      17\n",
              "16            Tuna     22    23      21\n",
              "17       Anchovies     18    21      15\n",
              "18  Something else     11    12      10"
            ]
          },
          "metadata": {},
          "execution_count": 35
        }
      ]
    },
    {
      "cell_type": "code",
      "metadata": {
        "colab": {
          "base_uri": "https://localhost:8080/"
        },
        "id": "0UYlVmJZfGXZ",
        "outputId": "5fd57a90-d9b5-436c-c431-a544605e07fd"
      },
      "source": [
        "topping= df['Topping'].to_numpy()\n",
        "topping"
      ],
      "execution_count": 36,
      "outputs": [
        {
          "output_type": "execute_result",
          "data": {
            "text/plain": [
              "array(['Mushrooms', 'Onion', 'Ham', 'Peppers', 'Chicken', 'Pepperoni',\n",
              "       'Tomato', 'Bacon', 'Pineapple', 'Sweetcorn', 'Beef', 'Olives',\n",
              "       'Chillies', 'Jalapenos', 'Spinach', 'Pork', 'Tuna', 'Anchovies',\n",
              "       'Something else'], dtype=object)"
            ]
          },
          "metadata": {},
          "execution_count": 36
        }
      ]
    },
    {
      "cell_type": "code",
      "metadata": {
        "colab": {
          "base_uri": "https://localhost:8080/"
        },
        "id": "959XyFedf61B",
        "outputId": "ff749fea-78b1-4360-c5a9-21413dae0f52"
      },
      "source": [
        "men= df['Male'].to_numpy()\n",
        "men"
      ],
      "execution_count": 37,
      "outputs": [
        {
          "output_type": "execute_result",
          "data": {
            "text/plain": [
              "array([63, 62, 66, 63, 60, 66, 49, 56, 40, 38, 47, 33, 42, 39, 20, 34, 23,\n",
              "       21, 12])"
            ]
          },
          "metadata": {},
          "execution_count": 37
        }
      ]
    },
    {
      "cell_type": "code",
      "metadata": {
        "colab": {
          "base_uri": "https://localhost:8080/"
        },
        "id": "WdurhPPXgCVb",
        "outputId": "09eb6323-2dbe-4b2b-9bba-817438887fc2"
      },
      "source": [
        "female= df['Female'].to_numpy()\n",
        "female"
      ],
      "execution_count": 38,
      "outputs": [
        {
          "output_type": "execute_result",
          "data": {
            "text/plain": [
              "array([68, 63, 56, 57, 52, 46, 54, 43, 44, 46, 26, 32, 22, 21, 32, 17, 21,\n",
              "       15, 10])"
            ]
          },
          "metadata": {},
          "execution_count": 38
        }
      ]
    },
    {
      "cell_type": "code",
      "metadata": {
        "id": "mZaIAGR0gJcA"
      },
      "source": [
        "width=0.29"
      ],
      "execution_count": 49,
      "outputs": []
    },
    {
      "cell_type": "code",
      "metadata": {
        "id": "N2X2WNr7gYK9"
      },
      "source": [
        "index = np.arange(len(men))"
      ],
      "execution_count": 41,
      "outputs": []
    },
    {
      "cell_type": "code",
      "metadata": {
        "colab": {
          "base_uri": "https://localhost:8080/",
          "height": 477
        },
        "id": "JXJuMaWfgfJP",
        "outputId": "791877d7-f4ef-46f2-8c58-92e359edbe01"
      },
      "source": [
        "plt.style.use('seaborn')\n",
        "plt.figure(figsize=(29,15))\n",
        "plt.bar(index,men,width = width, color = 'blue', label = 'Male')\n",
        "plt.bar(index + width,female, width=width, color = 'red', label ='Female')\n",
        "plt.xticks(index + width, topping,fontsize=13)\n",
        "plt.xlabel('Toppings',fontsize=25)\n",
        "plt.ylabel('People',fontsize=25)\n",
        "plt.ylim(bottom=0,top=70)\n",
        "plt.title('Toppings between males and females',fontsize=25)\n",
        "plt.legend(loc = 'upper right')\n",
        "plt.show()\n"
      ],
      "execution_count": 64,
      "outputs": [
        {
          "output_type": "display_data",
          "data": {
            "image/png": "[encoded data removed]",
            "text/plain": [
              "<Figure size 2088x1080 with 1 Axes>"
            ]
          },
          "metadata": {}
        }
      ]
    }
  ]
}